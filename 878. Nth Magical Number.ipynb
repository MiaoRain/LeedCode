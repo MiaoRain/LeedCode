{
 "cells": [
  {
   "cell_type": "code",
   "execution_count": 3,
   "metadata": {},
   "outputs": [],
   "source": [
    "import numpy as np\n",
    "def nthMagicalNumber1(N,A,B):\n",
    "    d = (N-1)/(1/A+1/B-1/np.lcm(A,B))\n",
    "    while N != int(d/A) + int(d/B) -int(d/np.lcm(A,B)):\n",
    "        d = d + 1\n",
    "    return(int(d%(10**9+7)))"
   ]
  },
  {
   "cell_type": "code",
   "execution_count": 5,
   "metadata": {},
   "outputs": [
    {
     "data": {
      "text/plain": [
       "12"
      ]
     },
     "execution_count": 5,
     "metadata": {},
     "output_type": "execute_result"
    }
   ],
   "source": [
    "import math\n",
    "class Solution:\n",
    "    def nthMagicalNumber(self, N: int, A: int, B: int) -> int:\n",
    "        d = (N-1)/(1/A+1/B-math.gcd(A,B)/(A*B))\n",
    "        while N != int(d/A) + int(d/B) -int(d*math.gcd(A,B)/(A*B)):\n",
    "            d = d + 1\n",
    "        return(int(d%(10**9+7)))"
   ]
  },
  {
   "cell_type": "code",
   "execution_count": 2,
   "metadata": {},
   "outputs": [
    {
     "name": "stdout",
     "output_type": "stream",
     "text": [
      "39999999960000.0\n",
      "40000000040000.0\n",
      "40000000000000\n"
     ]
    },
    {
     "data": {
      "text/plain": [
       "999720007"
      ]
     },
     "execution_count": 2,
     "metadata": {},
     "output_type": "execute_result"
    }
   ],
   "source": [
    "import numpy as np\n",
    "N = 1000000000\n",
    "A = 40000\n",
    "B = 40000\n",
    "dx = (N - 1)/(1/A + 1/B -1/np.lcm(A,B))\n",
    "dy = (N + 1)/(1/A + 1/B -1/np.lcm(A,B))\n",
    "d = int((dx+dy)/2)\n",
    "while N != int(d/A) + int(d/B) -int(d/np.lcm(A,B)) or ( d%A != 0 and d%B != 0 ):\n",
    "    if int(d/A) + int(d/B) -int(d/np.lcm(A,B)) >= N:\n",
    "        dy = d\n",
    "        d = int((dx+dy)/2)\n",
    "        print(\"1\",d)\n",
    "    else:\n",
    "        dx = d\n",
    "        d = int((dx+dy)/2)\n",
    "        print(\"2\",d)\n",
    "print(dx)\n",
    "print(dy)\n",
    "print(d)\n",
    "int(d%(10**9+7))"
   ]
  },
  {
   "cell_type": "code",
   "execution_count": null,
   "metadata": {},
   "outputs": [],
   "source": [
    "import math\n",
    "def nthMagicalNumber1(N,A,B):\n",
    "    l = (A*B)/math.gcd(A,B)\n",
    "    if A > B:\n",
    "        m = A\n",
    "        A = B\n",
    "        B = m  \n",
    "    T = int(l/A + l/B -1)\n",
    "    if N%T == 0:\n",
    "        print(int(((N/T)*l)%(10**9+7)))\n",
    "    else:\n",
    "        i = int(N/T)\n",
    "        k = 0\n",
    "        while((int((k*B)/A) + k - int((k*B)/l)) < (N - i*T)):\n",
    "            k = k + 1\n",
    "        if (int((k*B)/A) + k - int((k*B)/l)) == (N - i*T):\n",
    "            print(int((k*B+i*l)%(10**9+7)))\n",
    "        else:\n",
    "            d = ((N - i * T - (int(((k-1)*B)/A)+(k-1)-int(((k-1)*B)/l)) + int(((k-1)*B)/A))*A + i * l)\n",
    "            print(int(d%(10**9+7)))"
   ]
  }
 ],
 "metadata": {
  "kernelspec": {
   "display_name": "Python 3",
   "language": "python",
   "name": "python3"
  },
  "language_info": {
   "codemirror_mode": {
    "name": "ipython",
    "version": 3
   },
   "file_extension": ".py",
   "mimetype": "text/x-python",
   "name": "python",
   "nbconvert_exporter": "python",
   "pygments_lexer": "ipython3",
   "version": "3.7.0"
  }
 },
 "nbformat": 4,
 "nbformat_minor": 2
}
