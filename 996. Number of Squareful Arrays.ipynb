{
 "cells": [
  {
   "cell_type": "code",
   "execution_count": 29,
   "metadata": {},
   "outputs": [
    {
     "name": "stdout",
     "output_type": "stream",
     "text": [
      "hamilton called with pt=1, path=[]\n",
      "hamilton called with pt=3, path=[1]\n",
      "hamilton called with pt=1, path=[1, 3]\n",
      "pt 1 already in path [1, 3]\n",
      "hamilton called with pt=2, path=[1, 3]\n",
      "hamilton called with pt=3, path=[1, 3, 2]\n",
      "pt 3 already in path [1, 3, 2]\n",
      "hamilton called with pt=4, path=[1, 3, 2]\n"
     ]
    },
    {
     "data": {
      "text/plain": [
       "[1, 3, 2, 4]"
      ]
     },
     "execution_count": 29,
     "metadata": {},
     "output_type": "execute_result"
    }
   ],
   "source": [
    "def hamilton(G, size, pt, path=[]):\n",
    "    print('hamilton called with pt={}, path={}'.format(pt, path))\n",
    "    if pt not in set(path):\n",
    "        path.append(pt)\n",
    "        if len(path)==size:\n",
    "            return path\n",
    "        for pt_next in G.get(pt, []):\n",
    "            res_path = [i for i in path]\n",
    "            candidate = hamilton(G, size, pt_next, res_path)\n",
    "            if candidate is not None:  # skip loop or dead end\n",
    "                return candidate\n",
    "        print('path {} is a dead end'.format(path))\n",
    "    else:\n",
    "        print('pt {} already in path {}'.format(pt, path))\n",
    "G = {1:[3,4], 2:[3,4], 3:[1,2,4], 4:[1,2,3]}\n",
    "hamilton(G, 4, 1)  "
   ]
  },
  {
   "cell_type": "code",
   "execution_count": null,
   "metadata": {},
   "outputs": [],
   "source": [
    "class Solution:\n",
    "    def numSquarefulPerms(self, A):\n",
    "        N = len(A)\n",
    "        count = collections.Counter(A)\n",
    "\n",
    "        graph = {x: [] for x in count}\n",
    "        for x in count:\n",
    "            for y in count:\n",
    "                if int((x+y)**.5 + 0.5) ** 2 == x+y:\n",
    "                    graph[x].append(y)\n",
    "\n",
    "        def dfs(x, todo):\n",
    "            count[x] -= 1\n",
    "            if todo == 0:\n",
    "                ans = 1\n",
    "            else:\n",
    "                ans = 0\n",
    "                for y in graph[x]:\n",
    "                    if count[y]:\n",
    "                        ans += dfs(y, todo - 1)\n",
    "            count[x] += 1\n",
    "            return ans\n",
    "\n",
    "        return sum(dfs(x, len(A) - 1) for x in count)"
   ]
  },
  {
   "cell_type": "code",
   "execution_count": 48,
   "metadata": {},
   "outputs": [],
   "source": [
    "import collections \n",
    "c = collections.Counter(\"abcdefgab\")"
   ]
  },
  {
   "cell_type": "code",
   "execution_count": 86,
   "metadata": {},
   "outputs": [],
   "source": [
    "A = [1,35,24,25,1,35]\n",
    "def numSquarefulPerms(A):\n",
    "    N = len(A)\n",
    "    count = collections.Counter(A)\n",
    "    print(count)\n",
    "    graph = {x: [] for x in count}\n",
    "\n",
    "    for x in count:\n",
    "        for y in count:\n",
    "            if int((x+y)**.5 + 0.5) ** 2 == x+y:\n",
    "                graph[x].append(y)\n",
    "    print(graph)\n",
    "    def dfs(x, todo):\n",
    "        count[x] -= 1\n",
    "        if todo == 0:\n",
    "            ans = 1\n",
    "        else:\n",
    "            ans = 0\n",
    "            for y in graph[x]:\n",
    "                if count[y]:\n",
    "                    ans += dfs(y, todo - 1)\n",
    "        count[x] += 1\n",
    "        return ans\n",
    "\n",
    "    return sum(dfs(x, len(A) - 1) for x in count)"
   ]
  },
  {
   "cell_type": "code",
   "execution_count": 87,
   "metadata": {},
   "outputs": [
    {
     "name": "stdout",
     "output_type": "stream",
     "text": [
      "Counter({1: 2, 35: 2, 24: 1, 25: 1})\n",
      "{1: [35, 24], 35: [1], 24: [1, 25], 25: [24]}\n",
      "1\n",
      "35\n",
      "1\n",
      "35\n",
      "jieshu\n",
      "24\n",
      "jieshu\n",
      "25\n",
      "jieshu\n",
      "24\n",
      "1\n",
      "35\n",
      "jieshu\n",
      "jieshu\n",
      "25\n",
      "jieshu\n",
      "35\n",
      "1\n",
      "35\n",
      "1\n",
      "jieshu\n",
      "24\n",
      "jieshu\n",
      "25\n",
      "zhaodao\n",
      "24\n",
      "1\n",
      "35\n",
      "jieshu\n",
      "jieshu\n",
      "25\n",
      "jieshu\n",
      "24\n",
      "1\n",
      "35\n",
      "1\n",
      "35\n",
      "jieshu\n",
      "jieshu\n",
      "jieshu\n",
      "25\n",
      "jieshu\n",
      "25\n",
      "24\n",
      "1\n",
      "35\n",
      "1\n",
      "35\n",
      "zhaodao\n",
      "jieshu\n",
      "jieshu\n",
      "jieshu\n"
     ]
    },
    {
     "data": {
      "text/plain": [
       "2"
      ]
     },
     "execution_count": 87,
     "metadata": {},
     "output_type": "execute_result"
    }
   ],
   "source": [
    "numSquarefulPerms(A)"
   ]
  },
  {
   "cell_type": "code",
   "execution_count": null,
   "metadata": {},
   "outputs": [],
   "source": []
  }
 ],
 "metadata": {
  "kernelspec": {
   "display_name": "Python 3",
   "language": "python",
   "name": "python3"
  },
  "language_info": {
   "codemirror_mode": {
    "name": "ipython",
    "version": 3
   },
   "file_extension": ".py",
   "mimetype": "text/x-python",
   "name": "python",
   "nbconvert_exporter": "python",
   "pygments_lexer": "ipython3",
   "version": "3.7.0"
  }
 },
 "nbformat": 4,
 "nbformat_minor": 2
}
