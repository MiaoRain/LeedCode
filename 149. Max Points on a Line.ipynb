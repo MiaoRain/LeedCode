{
 "cells": [
  {
   "cell_type": "code",
   "execution_count": 18,
   "metadata": {},
   "outputs": [],
   "source": [
    "from decimal import Decimal\n",
    "from collections import defaultdict\n",
    "def maxPoints1(points):\n",
    "    pointspair = [(tuple(i),points.count(i)) for i in points]\n",
    "    n = len(points)\n",
    "    dict = defaultdict(list)\n",
    "    for i in range(n):\n",
    "        for j in range(i+1,n):\n",
    "            if points[i][0] == points[j][0]:\n",
    "                k = \"infinity\"\n",
    "                x = points[i][0]\n",
    "                dict[(k,x)].append(pointspair[i])\n",
    "                dict[(k,x)].append(pointspair[j])\n",
    "            else:\n",
    "                k = Decimal(points[i][1]-points[j][1])/Decimal(points[i][0]-points[j][0])\n",
    "                x = points[i][1]-k*points[i][0]\n",
    "                dict[(k,x)].append(pointspair[i])\n",
    "                dict[(k,x)].append(pointspair[j])\n",
    "    return(max([sum([j[1] for j in set(l)]) for l in list(dict.values())]))"
   ]
  },
  {
   "cell_type": "code",
   "execution_count": 19,
   "metadata": {},
   "outputs": [],
   "source": [
    "from collections import defaultdict\n",
    "from decimal import Decimal\n",
    "def maxPoints2(points):\n",
    "    \"\"\"\n",
    "    :type points: List[Point]\n",
    "    :rtype: int\n",
    "    \"\"\"\n",
    "    slopes, result = defaultdict(int), 0\n",
    "    for i, point1 in enumerate(points): \n",
    "        slopes.clear()\n",
    "        duplicate = 1\n",
    "        for _, point2 in enumerate(points[i+1:]):\n",
    "            if point1[0] == point2[0] and point1[1] == point2[1]:\n",
    "                duplicate += 1\n",
    "                continue\n",
    "\n",
    "            slope = float('inf') if point1[0] == point2[0] else \\\n",
    "                        Decimal(point1[1] - point2[1])/Decimal(point1[0] - point2[0])\n",
    "\n",
    "            slopes[slope] += 1\n",
    "\n",
    "        if result < duplicate:\n",
    "            result = duplicate\n",
    "\n",
    "        for _, val in slopes.items():\n",
    "            if val + duplicate > result:\n",
    "                result = val + duplicate\n",
    "\n",
    "    return result"
   ]
  },
  {
   "cell_type": "code",
   "execution_count": 42,
   "metadata": {},
   "outputs": [
    {
     "data": {
      "text/plain": [
       "4"
      ]
     },
     "execution_count": 42,
     "metadata": {},
     "output_type": "execute_result"
    }
   ],
   "source": [
    "maxPoints1([[1, 1], [3, 2], [5, 3], [4, 1], [2, 3], [1, 4]])"
   ]
  },
  {
   "cell_type": "code",
   "execution_count": 21,
   "metadata": {},
   "outputs": [
    {
     "data": {
      "text/plain": [
       "5"
      ]
     },
     "execution_count": 21,
     "metadata": {},
     "output_type": "execute_result"
    }
   ],
   "source": [
    "maxPoints2([[3,10],[0,2],[0,2],[3,10],[3,10]])"
   ]
  },
  {
   "cell_type": "code",
   "execution_count": 41,
   "metadata": {},
   "outputs": [
    {
     "name": "stdout",
     "output_type": "stream",
     "text": [
      "Running time: 0.00012629299999389332 Seconds\n"
     ]
    },
    {
     "name": "stderr",
     "output_type": "stream",
     "text": [
      "C:\\Users\\cam\\Anaconda3\\lib\\site-packages\\ipykernel_launcher.py:2: DeprecationWarning: time.clock has been deprecated in Python 3.3 and will be removed from Python 3.8: use time.perf_counter or time.process_time instead\n",
      "  \n",
      "C:\\Users\\cam\\Anaconda3\\lib\\site-packages\\ipykernel_launcher.py:4: DeprecationWarning: time.clock has been deprecated in Python 3.3 and will be removed from Python 3.8: use time.perf_counter or time.process_time instead\n",
      "  after removing the cwd from sys.path.\n"
     ]
    }
   ],
   "source": [
    "import time\n",
    "start =time.clock()\n",
    "maxPoints1([[3,10],[0,2],[0,2],[3,10],[3,10]])\n",
    "end = time.clock()\n",
    "print('Running time: %s Seconds'%(end-start))"
   ]
  },
  {
   "cell_type": "code",
   "execution_count": 40,
   "metadata": {},
   "outputs": [
    {
     "name": "stdout",
     "output_type": "stream",
     "text": [
      "Running time: 0.00010069300014947657 Seconds\n"
     ]
    },
    {
     "name": "stderr",
     "output_type": "stream",
     "text": [
      "C:\\Users\\cam\\Anaconda3\\lib\\site-packages\\ipykernel_launcher.py:2: DeprecationWarning: time.clock has been deprecated in Python 3.3 and will be removed from Python 3.8: use time.perf_counter or time.process_time instead\n",
      "  \n",
      "C:\\Users\\cam\\Anaconda3\\lib\\site-packages\\ipykernel_launcher.py:4: DeprecationWarning: time.clock has been deprecated in Python 3.3 and will be removed from Python 3.8: use time.perf_counter or time.process_time instead\n",
      "  after removing the cwd from sys.path.\n"
     ]
    }
   ],
   "source": [
    "import time\n",
    "start =time.clock()\n",
    "maxPoints2([[3,10],[0,2],[0,2],[3,10],[3,10]])\n",
    "end = time.clock()\n",
    "print('Running time: %s Seconds'%(end-start))"
   ]
  },
  {
   "cell_type": "code",
   "execution_count": null,
   "metadata": {},
   "outputs": [],
   "source": []
  },
  {
   "cell_type": "code",
   "execution_count": null,
   "metadata": {},
   "outputs": [],
   "source": []
  }
 ],
 "metadata": {
  "kernelspec": {
   "display_name": "Python 3",
   "language": "python",
   "name": "python3"
  },
  "language_info": {
   "codemirror_mode": {
    "name": "ipython",
    "version": 3
   },
   "file_extension": ".py",
   "mimetype": "text/x-python",
   "name": "python",
   "nbconvert_exporter": "python",
   "pygments_lexer": "ipython3",
   "version": "3.7.0"
  }
 },
 "nbformat": 4,
 "nbformat_minor": 2
}
