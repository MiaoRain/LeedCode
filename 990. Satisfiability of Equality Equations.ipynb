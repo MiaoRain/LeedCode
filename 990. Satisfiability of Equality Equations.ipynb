{
 "cells": [
  {
   "cell_type": "code",
   "execution_count": 1,
   "metadata": {},
   "outputs": [
    {
     "name": "stdout",
     "output_type": "stream",
     "text": [
      "[('a', 'b'), ('a', 'c')] [('b', 'c')] {'c': 'c', 'b': 'b', 'a': 'a'}\n",
      "{'c': 'c', 'b': 'c', 'a': 'b'}\n",
      "False\n",
      "True\n"
     ]
    }
   ],
   "source": [
    "equations = [\"a==b\",\"b!=c\",\"c==a\"]\n",
    "# A = list(set([tuple(sorted((x[0],x[3]))) for x in equations if x[1] == \"=\"]))\n",
    "# B = list(set([tuple(sorted((x[0],x[3]))) for x in equations if x[1] == \"!\"]))\n",
    "A, B, alp= [], [], []\n",
    "for x in equations:\n",
    "    if x[1] == \"=\":\n",
    "        A.append(tuple(sorted((x[0],x[3]))))\n",
    "    else:\n",
    "        B.append(tuple(sorted((x[0],x[3]))))\n",
    "    alp.append(x[0])\n",
    "    alp.append(x[3])\n",
    "    alp = list(set(alp))\n",
    "A = list(set(A))\n",
    "B = list(set(B))\n",
    "Y = { x:x for x in alp }\n",
    "print(A, B, Y)\n",
    "def find(A, a):\n",
    "    while Y[a] != a:\n",
    "        Y[a] = Y[Y[a]]\n",
    "        a = Y[a]\n",
    "    return(a)\n",
    "\n",
    "def Union(Y, a, b):\n",
    "    if find(Y, a) != find(Y, b):\n",
    "        Y[find(Y, a)] = find(Y, b) \n",
    "        \n",
    "for x in A:\n",
    "    if Y[x[0]] == x[0]:\n",
    "        Y[x[0]] = x[1]\n",
    "    else:\n",
    "        Union(Y, x[0], x[1])\n",
    "print(Y)\n",
    "\n",
    "for y in B:\n",
    "    if find(Y, y[0]) == find(Y, y[1]):\n",
    "        print(\"False\")\n",
    "print(\"True\") "
   ]
  },
  {
   "cell_type": "code",
   "execution_count": 57,
   "metadata": {},
   "outputs": [
    {
     "data": {
      "text/plain": [
       "{'c': 'c', 'b': 'b', 'a': 'a'}"
      ]
     },
     "execution_count": 57,
     "metadata": {},
     "output_type": "execute_result"
    }
   ],
   "source": [
    "class Solution:\n",
    "    def equationsPossible(self, equations: List[str]) -> bool:\n",
    "        # A = list(set([tuple(sorted((x[0],x[3]))) for x in equations if x[1] == \"=\"]))\n",
    "        # B = list(set([tuple(sorted((x[0],x[3]))) for x in equations if x[1] == \"!\"]))\n",
    "        A, B, alp= [], [], []\n",
    "        for x in equations:\n",
    "            if x[1] == \"=\":\n",
    "                A.append(tuple(sorted((x[0],x[3]))))\n",
    "            else:\n",
    "                B.append(tuple(sorted((x[0],x[3]))))\n",
    "            alp.append(x[0])\n",
    "            alp.append(x[3])\n",
    "            alp = list(set(alp))\n",
    "        A = list(set(A))\n",
    "        B = list(set(B))\n",
    "        Y = { x:x for x in alp }\n",
    "        \n",
    "        def find(A, a):\n",
    "            while Y[a] != a:\n",
    "                Y[a] = Y[Y[a]]\n",
    "                a = Y[a]\n",
    "            return(a)\n",
    "\n",
    "        def Union(Y, a, b):\n",
    "            if find(Y, a) != find(Y, b):\n",
    "                Y[find(Y, a)] = find(Y, b) \n",
    "\n",
    "        for x in A:\n",
    "            if Y[x[0]] == x[0]:\n",
    "                Y[x[0]] = x[1]\n",
    "            else:\n",
    "                Union(Y, x[0], x[1])\n",
    "        for y in B:\n",
    "            if find(Y, y[0]) == find(Y, y[1]):\n",
    "                return(False)\n",
    "                quit()\n",
    "        return(True)       "
   ]
  }
 ],
 "metadata": {
  "kernelspec": {
   "display_name": "Python 3",
   "language": "python",
   "name": "python3"
  },
  "language_info": {
   "codemirror_mode": {
    "name": "ipython",
    "version": 3
   },
   "file_extension": ".py",
   "mimetype": "text/x-python",
   "name": "python",
   "nbconvert_exporter": "python",
   "pygments_lexer": "ipython3",
   "version": "3.7.0"
  }
 },
 "nbformat": 4,
 "nbformat_minor": 2
}
