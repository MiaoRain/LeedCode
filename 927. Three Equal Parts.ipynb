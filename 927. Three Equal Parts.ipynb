{
 "cells": [
  {
   "cell_type": "raw",
   "metadata": {},
   "source": [
    "class Solution:\n",
    "    def threeEqualParts(self, A: List[int]) -> List[int]:\n",
    "        n = A.count(1)\n",
    "        if n == 0:\n",
    "            return([0,len(A)-1])\n",
    "        else:\n",
    "            if n%3 !=0:\n",
    "                return([-1,-1])\n",
    "            else:\n",
    "                j = 0\n",
    "                for i in range(0,len(A)):\n",
    "                    if A[i] == 1:\n",
    "                        j = j + 1\n",
    "                        if j == 1:\n",
    "                            x = i\n",
    "                        if j == n/3 + 1:\n",
    "                            y = i\n",
    "                        if j == (2*n)/3 + 1:\n",
    "                            z = i\n",
    "                Z = A[z:len(A)]\n",
    "                m = len(Z)\n",
    "                if y - x >= m and z - y >= m:\n",
    "                    Y = A[y:y + m]\n",
    "                    X = A[x:x + m]\n",
    "                else:\n",
    "                    return([-1,-1])\n",
    "                if Z==X and Z==Y:\n",
    "                    return([x+m-1,y+m])\n",
    "                else:\n",
    "                    return([-1,-1])"
   ]
  },
  {
   "cell_type": "code",
   "execution_count": 33,
   "metadata": {},
   "outputs": [
    {
     "name": "stdout",
     "output_type": "stream",
     "text": [
      "[-1, -1]\n"
     ]
    }
   ],
   "source": [
    "X = [0,1,0,1,1,0,0,1,0,1,0,0,0,0,1,0,1,1,1,0]\n",
    "n = X.count(1)\n",
    "if n == 0:\n",
    "    print([0,len(A)-1])\n",
    "if n%3 !=0:\n",
    "    print([-1,-1])\n",
    "else:\n",
    "    j = 0\n",
    "    for i in range(0,len(X)):\n",
    "        if X[i] == 1:\n",
    "            j = j + 1\n",
    "            if j == 1:\n",
    "                x = i\n",
    "            if j == n/3 + 1:\n",
    "                y = i\n",
    "            if j == (2*n)/3 + 1:\n",
    "                z = i\n",
    "    C = X[z:len(X)]\n",
    "    m = len(C)\n",
    "    if y - x >= m and z - y >= m:\n",
    "        B = X[y:y + m]\n",
    "        A = X[x:x + m]\n",
    "    else:\n",
    "        print([-1,-1])\n",
    "    if C==B and C==A:\n",
    "        print([x+m-1,y+m])\n",
    "    else:\n",
    "        print([-1,-1])"
   ]
  }
 ],
 "metadata": {
  "kernelspec": {
   "display_name": "Python 3",
   "language": "python",
   "name": "python3"
  },
  "language_info": {
   "codemirror_mode": {
    "name": "ipython",
    "version": 3
   },
   "file_extension": ".py",
   "mimetype": "text/x-python",
   "name": "python",
   "nbconvert_exporter": "python",
   "pygments_lexer": "ipython3",
   "version": "3.7.0"
  }
 },
 "nbformat": 4,
 "nbformat_minor": 2
}
