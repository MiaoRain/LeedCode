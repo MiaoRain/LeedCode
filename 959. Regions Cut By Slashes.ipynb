{
 "cells": [
  {
   "cell_type": "markdown",
   "metadata": {},
   "source": [
    "测试代码。"
   ]
  },
  {
   "cell_type": "code",
   "execution_count": 35,
   "metadata": {},
   "outputs": [
    {
     "name": "stdout",
     "output_type": "stream",
     "text": [
      "4\n"
     ]
    }
   ],
   "source": [
    "grid = [\"\\\\/\",\"/\\\\\"]\n",
    "size = len(grid)\n",
    "V = {(x,y):(x,y) for y in range(size + 1) for x in range(size + 1)}\n",
    "counter = 1\n",
    "for x,y in V:\n",
    "    if x == 0 or x == size or y == 0 or y == size:\n",
    "        V[(x, y)] = (0, 0)\n",
    "\n",
    "def find(Y , a):\n",
    "    while Y[a] != a:\n",
    "        Y[a] = Y[Y[a]]\n",
    "        a = Y[a]\n",
    "    return(a)\n",
    "\n",
    "for i in range(size):\n",
    "    for j in range(size):\n",
    "        if grid[i][j] == \"\\\\\":\n",
    "            if find(V, (i,j)) ==  find(V, (i + 1,j + 1)):\n",
    "                counter += 1\n",
    "            else:\n",
    "                V[find(V, (i,j))] = find(V, (i + 1,j + 1))\n",
    "        elif grid[i][j] == \"/\":\n",
    "            if find(V, (i + 1,j)) ==  find(V, (i,j + 1)):\n",
    "                counter += 1\n",
    "            else:\n",
    "                V[find(V, (i + 1,j))] = find(V, (i,j + 1))\n",
    "print(counter)       "
   ]
  },
  {
   "cell_type": "markdown",
   "metadata": {},
   "source": [
    "执行用时 : 104 ms, 在Regions Cut By Slashes的Python3提交中击败了85.71% 的用户\n",
    "内存消耗 : 13.3 MB, 在Regions Cut By Slashes的Python3提交中击败了16.67% 的用户"
   ]
  },
  {
   "cell_type": "code",
   "execution_count": null,
   "metadata": {},
   "outputs": [],
   "source": [
    "# 方法：并查集\n",
    "class Solution:\n",
    "    def regionsBySlashes(self, grid: List[str]) -> int:\n",
    "        size = len(grid)\n",
    "        # 建立所有格点组成的字典，默认指向自己\n",
    "        V = {(x,y):(x,y) for y in range(size + 1) for x in range(size + 1)}\n",
    "        \n",
    "        # 所有四边都属于同一个等价类\n",
    "        for x,y in V:\n",
    "            if x == 0 or x == size or y == 0 or y == size:\n",
    "                V[(x, y)] = (0, 0)\n",
    "                \n",
    "\n",
    "        def find(Y , a):\n",
    "            while Y[a] != a:\n",
    "                Y[a] = Y[Y[a]]\n",
    "                a = Y[a]\n",
    "            return(a)\n",
    "        counter = 1\n",
    "        for i in range(size):\n",
    "            for j in range(size):\n",
    "                if grid[i][j] == \"\\\\\":\n",
    "                    # 一旦产生了圈，则意味着产生了一个新的面，面数加 1 \n",
    "                    if find(V, (i,j)) ==  find(V, (i + 1,j + 1)):\n",
    "                        counter += 1\n",
    "                    else:\n",
    "                        V[find(V, (i,j))] = find(V, (i + 1,j + 1))\n",
    "                elif grid[i][j] == \"/\":\n",
    "                    # 一旦产生了圈，则意味着产生了一个新的面，面数加 1 \n",
    "                    if find(V, (i + 1,j)) ==  find(V, (i,j + 1)):\n",
    "                        counter += 1\n",
    "                    else:\n",
    "                        V[find(V, (i + 1,j))] = find(V, (i,j + 1))\n",
    "        return(counter)"
   ]
  }
 ],
 "metadata": {
  "kernelspec": {
   "display_name": "Python 3",
   "language": "python",
   "name": "python3"
  },
  "language_info": {
   "codemirror_mode": {
    "name": "ipython",
    "version": 3
   },
   "file_extension": ".py",
   "mimetype": "text/x-python",
   "name": "python",
   "nbconvert_exporter": "python",
   "pygments_lexer": "ipython3",
   "version": "3.7.0"
  }
 },
 "nbformat": 4,
 "nbformat_minor": 2
}
