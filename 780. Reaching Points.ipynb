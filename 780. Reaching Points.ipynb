{
 "cells": [
  {
   "cell_type": "code",
   "execution_count": 8,
   "metadata": {},
   "outputs": [
    {
     "name": "stdout",
     "output_type": "stream",
     "text": [
      "False\n"
     ]
    }
   ],
   "source": [
    "sx = 3\n",
    "sy = 7\n",
    "tx = 3\n",
    "ty = 4\n",
    "if tx >= ty:\n",
    "    tx = tx - max(int((tx - sx)/ty),0)*ty\n",
    "else:\n",
    "    ty = ty - max(int((ty - sy)/tx),0)*tx\n",
    "while True: \n",
    "    if sx == tx and sy == ty:\n",
    "        print(\"True\")\n",
    "        break\n",
    "    elif tx < sx or ty < sy:\n",
    "        print(\"False\")\n",
    "        break\n",
    "    elif tx < ty:\n",
    "        ty = ty - tx\n",
    "    else:\n",
    "        tx = tx - ty"
   ]
  },
  {
   "cell_type": "code",
   "execution_count": 9,
   "metadata": {},
   "outputs": [
    {
     "name": "stdout",
     "output_type": "stream",
     "text": [
      "False\n"
     ]
    }
   ],
   "source": [
    "sx = 3\n",
    "sy = 7\n",
    "tx = 3\n",
    "ty = 4\n",
    "while True: \n",
    "    if sx == tx and sy == ty:\n",
    "        print(\"True\")\n",
    "        break\n",
    "    elif tx < sx or ty < sy:\n",
    "        print(\"False\")\n",
    "        break\n",
    "    elif tx < ty:\n",
    "        ty = ty - max(int((ty - sy)/tx),1)*tx\n",
    "    else:\n",
    "        tx = tx - max(int((tx - sx)/ty),1)*ty"
   ]
  },
  {
   "cell_type": "code",
   "execution_count": 13,
   "metadata": {},
   "outputs": [],
   "source": [
    "def reachingPoints1(sx, sy, tx, ty):\n",
    "    if tx >= ty:\n",
    "        tx = tx - max(int((tx - sx)/ty),0)*ty\n",
    "    else:\n",
    "        ty = ty -  max(int((ty - sy)/tx),0)*tx\n",
    "    while True: \n",
    "        if sx == tx and sy == ty:\n",
    "            return(True)\n",
    "            break\n",
    "        elif tx < sx or ty < sy:\n",
    "            return(False)\n",
    "            break\n",
    "        elif tx < ty:\n",
    "            ty = ty - tx\n",
    "        else:\n",
    "            tx = tx - ty"
   ]
  },
  {
   "cell_type": "code",
   "execution_count": 12,
   "metadata": {},
   "outputs": [],
   "source": [
    "def reachingPoints2(sx, sy, tx, ty):\n",
    "    while True: \n",
    "        if sx == tx and sy == ty:\n",
    "            return(True)\n",
    "            break\n",
    "        elif tx < sx or ty < sy:\n",
    "            return(False)\n",
    "            break\n",
    "        elif tx < ty:\n",
    "            ty = ty - max(int((ty - sy)/tx),1)*tx\n",
    "        else:\n",
    "            tx = tx - max(int((tx - sx)/ty),1)*ty"
   ]
  }
 ],
 "metadata": {
  "kernelspec": {
   "display_name": "Python 3",
   "language": "python",
   "name": "python3"
  },
  "language_info": {
   "codemirror_mode": {
    "name": "ipython",
    "version": 3
   },
   "file_extension": ".py",
   "mimetype": "text/x-python",
   "name": "python",
   "nbconvert_exporter": "python",
   "pygments_lexer": "ipython3",
   "version": "3.7.0"
  }
 },
 "nbformat": 4,
 "nbformat_minor": 2
}
