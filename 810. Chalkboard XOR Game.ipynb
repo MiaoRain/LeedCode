{
 "cells": [
  {
   "cell_type": "markdown",
   "metadata": {},
   "source": [
    "小红在开始开始之前也应该检查一遍数组的异或值，如果是 0 的话，直接获胜。如果原数组异或值不为 0 的情况，设其为 $x$。如果数组个数是偶数，则数组中的数字不全相同，因为偶数个相同数字的亦或值为 0，那么小红只要移除一个不为 $x$ 的数字就行了，这样移除后数组的异或值也不会是 0。小明也不会移除一个使得剩余数组异或值为 0 的数字，但是到了最后一个数字时，小明别无选择只能移除数组中的最后一个数字，此时数组为 0，异或值为 0，小红获胜。\n",
    "\n",
    "数组个数为奇数个时小红一定会输：因为即便小红先移除掉了一个数字，使得数组异或值仍不为 0，那么此时小明面对的情况就是偶数个数字使得数组异或值不为 0，从而和上面的情形一样，故小明会赢。\n",
    "\n",
    "参考资料：https://www.cnblogs.com/grandyang/p/9445951.html\n",
    "\n",
    "以下是提交的答案。"
   ]
  },
  {
   "cell_type": "code",
   "execution_count": null,
   "metadata": {},
   "outputs": [],
   "source": [
    "class Solution:\n",
    "    def xorGame(self, nums: List[int]) -> bool:\n",
    "        xor = 0\n",
    "        for i in nums: xor ^= i\n",
    "        return xor == 0 or len(nums) % 2 == 0"
   ]
  }
 ],
 "metadata": {
  "kernelspec": {
   "display_name": "Python 3",
   "language": "python",
   "name": "python3"
  },
  "language_info": {
   "codemirror_mode": {
    "name": "ipython",
    "version": 3
   },
   "file_extension": ".py",
   "mimetype": "text/x-python",
   "name": "python",
   "nbconvert_exporter": "python",
   "pygments_lexer": "ipython3",
   "version": "3.7.0"
  }
 },
 "nbformat": 4,
 "nbformat_minor": 2
}
