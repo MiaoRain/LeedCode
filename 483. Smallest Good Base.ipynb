{
 "cells": [
  {
   "cell_type": "code",
   "execution_count": 17,
   "metadata": {},
   "outputs": [],
   "source": [
    "import math\n",
    "class Solution:\n",
    "    def smallestGoodBase(self, n: str) -> str:\n",
    "        n = int(n)\n",
    "        for k in range(3,60):\n",
    "            for q in range(int(n**(1/(k+1))), int(n**(1/k)) + 1):\n",
    "                if (n-1) % q == 0 and q != 1:\n",
    "                    if (q**(k + 1) - 1) == n*(q - 1):\n",
    "                        return(str(q))\n",
    "                        quit()\n",
    "        if (int(math.sqrt(4*n - 3)))**2 == 4*n - 3 and n != 3:\n",
    "            return(str(int((-1+int(math.sqrt(4*n - 3)))/2)))\n",
    "            quit()\n",
    "        else:\n",
    "            return(str(n-1))"
   ]
  },
  {
   "cell_type": "code",
   "execution_count": 1,
   "metadata": {},
   "outputs": [
    {
     "name": "stdout",
     "output_type": "stream",
     "text": [
      "496\n",
      "14919921443713776\n"
     ]
    }
   ],
   "source": [
    "import math\n",
    "n = 14919921443713777\n",
    "for k in range(3,60):\n",
    "    for q in range(int(n**(1/(k + 1))), int(n**(1/k)) + 1):\n",
    "        if (n-1) % q == 0 and q != 1:\n",
    "            if q**(k + 1) - 1 == n * (q - 1):\n",
    "                print(q)\n",
    "                quit()\n",
    "if (int(math.sqrt(4*n - 3)))**2 == 4*n - 3:\n",
    "    print( int((-1+int(math.sqrt(4*n - 3)))/2) )\n",
    "    quit()\n",
    "else:\n",
    "    print(n-1)"
   ]
  },
  {
   "cell_type": "code",
   "execution_count": null,
   "metadata": {},
   "outputs": [],
   "source": [
    "class Solution(object):\n",
    "    def smallestGoodBase(self, n):\n",
    "        \"\"\"\n",
    "        :type n: str\n",
    "        :rtype: str\n",
    "        \"\"\"        \n",
    "        num = int(n)\n",
    "        thisLen = int(math.log(num,2)) + 1\n",
    "        while thisLen > 2:\n",
    "            thisBase = int(num ** (1.0/(thisLen - 1)))\n",
    "            if num * (thisBase - 1) == thisBase ** thisLen - 1:\n",
    "                return str(thisBase)\n",
    "            thisLen -= 1\n",
    "        return str(num - 1)"
   ]
  },
  {
   "cell_type": "code",
   "execution_count": null,
   "metadata": {},
   "outputs": [],
   "source": [
    "class Solution(object):\n",
    "    def smallestGoodBase(self, n):\n",
    "        n = int(n); \n",
    "        for k in range(int(math.log(n, 2)), 1 , -1):\n",
    "            a = int(n ** k ** -1)\n",
    "            if (1 - a ** (k + 1)) // (1 - a) == n: \n",
    "                return str(a)    \n",
    "        return str(n - 1)"
   ]
  }
 ],
 "metadata": {
  "kernelspec": {
   "display_name": "Python 3",
   "language": "python",
   "name": "python3"
  },
  "language_info": {
   "codemirror_mode": {
    "name": "ipython",
    "version": 3
   },
   "file_extension": ".py",
   "mimetype": "text/x-python",
   "name": "python",
   "nbconvert_exporter": "python",
   "pygments_lexer": "ipython3",
   "version": "3.7.0"
  }
 },
 "nbformat": 4,
 "nbformat_minor": 2
}
