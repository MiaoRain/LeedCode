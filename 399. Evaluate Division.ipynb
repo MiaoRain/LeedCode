{
 "cells": [
  {
   "cell_type": "markdown",
   "metadata": {},
   "source": [
    "测试版本，思路就是利用 DFS。"
   ]
  },
  {
   "cell_type": "code",
   "execution_count": 72,
   "metadata": {},
   "outputs": [
    {
     "name": "stdout",
     "output_type": "stream",
     "text": [
      "[-1, -1, 1.0, 1.0]\n"
     ]
    }
   ],
   "source": [
    "equations = [[\"a\",\"b\"],[\"c\",\"d\"]]\n",
    "values = [1.0,1.0]\n",
    "queries = [[\"a\",\"c\"],[\"b\",\"d\"],[\"b\",\"a\"],[\"d\",\"c\"]]\n",
    "eq_value = [equations[i] + [values[i]] for i in range(len(equations))]\n",
    "\n",
    "# 通过 equations 构造图\n",
    "graph = {}\n",
    "for x,y,z in eq_value:\n",
    "    graph.setdefault(x, {x: 1})\n",
    "    graph.setdefault(y, {y: 1})\n",
    "    graph[x][y] = z\n",
    "    graph[y][x] = 1/z\n",
    "\n",
    "\n",
    "def DFS(graph, s, t):\n",
    "    stack = []\n",
    "    stack.append(s)\n",
    "    vertex = s\n",
    "    seen = set()\n",
    "    seen.add(s)\n",
    "    parent = {s:s}\n",
    "    \n",
    "    while vertex != t and len(stack)> 0:\n",
    "        vertex = stack.pop()\n",
    "        nodes = graph[vertex].keys()\n",
    "        for v in nodes:\n",
    "            if v not in seen:\n",
    "                stack.append(v)\n",
    "                seen.add(v)\n",
    "                parent[v] = vertex\n",
    "    return(parent)\n",
    "\n",
    "\n",
    "final = []\n",
    "for x, y in queries:\n",
    "    if x not in graph.keys() or y not in graph.keys():\n",
    "        final.append(-1)\n",
    "    elif x == y:\n",
    "        final.append(1)\n",
    "    else:\n",
    "        parent = DFS(graph, x, y)\n",
    "        num = 1\n",
    "        \n",
    "        \n",
    "        if y in parent.keys():\n",
    "            while parent[y] != y:\n",
    "                num = num * graph[parent[y]][y]\n",
    "                y = parent[y]\n",
    "            final.append(num)\n",
    "        else:\n",
    "            final.append(-1)\n",
    "        \n",
    "print(final)"
   ]
  },
  {
   "cell_type": "markdown",
   "metadata": {},
   "source": [
    "执行用时 : 56 ms, 在Evaluate Division的Python3提交中击败了3.33% 的用户\n",
    "内存消耗 : 13.2 MB, 在Evaluate Division的Python3提交中击败了0.00% 的用户"
   ]
  },
  {
   "cell_type": "code",
   "execution_count": 60,
   "metadata": {},
   "outputs": [
    {
     "name": "stdout",
     "output_type": "stream",
     "text": [
      "6.0\n"
     ]
    }
   ],
   "source": [
    "class Solution:\n",
    "    def calcEquation(self, equations: List[List[str]], values: List[float], queries: List[List[str]]) -> List[float]:\n",
    "        # 构造一个新的字典，里面是三元组，（除数，被除数，值）\n",
    "        eq_value = [equations[i] + [values[i]] for i in range(len(equations))]\n",
    "        # 构造一个图，键是给定的参数，值是与它有关系的参数及值\n",
    "        graph = {}\n",
    "        for x,y,z in eq_value:\n",
    "            graph.setdefault(x, {x: 1})\n",
    "            graph.setdefault(y, {y: 1})\n",
    "            graph[x][y] = z\n",
    "            graph[y][x] = 1/z\n",
    "        \n",
    "        # 利用深度优先算法看两个参数之间是否有一条路，如果有路则终止并返回这条路径，否则返回这个连通分支的所有搜索结果\n",
    "        def DFS(graph, s, t):\n",
    "            stack = []\n",
    "            stack.append(s)\n",
    "            vertex = s\n",
    "            seen = set()\n",
    "            seen.add(s)\n",
    "            parent = {s:s}\n",
    "\n",
    "            while vertex != t and len(stack)> 0:\n",
    "                vertex = stack.pop()\n",
    "                nodes = graph[vertex].keys()\n",
    "                for v in nodes:\n",
    "                    if v not in seen:\n",
    "                        stack.append(v)\n",
    "                        seen.add(v)\n",
    "                        parent[v] = vertex             \n",
    "            return(parent)\n",
    "\n",
    "        # 最终结果放在一个数组中\n",
    "        final = []\n",
    "        for x, y in queries:\n",
    "            # 如果有 1 个参数不在我们构造的图的键值中，则无法求值，加入 -1.0\n",
    "            if x not in graph.keys() or y not in graph.keys():\n",
    "                final.append(-1.0)\n",
    "            # 相同的参数做除法，得到的值是 1.0\n",
    "            elif x == y:\n",
    "                final.append(1.0)\n",
    "            else:\n",
    "                # 除上述两种情况外，利用 DFS 算法 \n",
    "                parent = DFS(graph, x, y)\n",
    "                \n",
    "                # 如果第二个参数在键值中，则每找一步就做一次乘法\n",
    "                num = 1\n",
    "                if y in parent.keys():\n",
    "                    while parent[y] != y:\n",
    "                        num = num * graph[parent[y]][y]\n",
    "                        y = parent[y]\n",
    "                    final.append(num)                \n",
    "                # 不在键值中值是 -1.0\n",
    "                else:\n",
    "                    final.append(-1.0)\n",
    "\n",
    "        return(final)"
   ]
  },
  {
   "cell_type": "markdown",
   "metadata": {},
   "source": [
    "https://leetcode.com/problems/evaluate-division/discuss/180722/100-Clean-Python"
   ]
  },
  {
   "cell_type": "code",
   "execution_count": null,
   "metadata": {},
   "outputs": [],
   "source": [
    "from collections import defaultdict\n",
    "import collections\n",
    "class Solution:\n",
    "    def calcEquation(self, equations: List[List[str]], values: List[float], queries: List[List[str]]) -> List[float]:\n",
    "        # 1, Graph Construction, N = (next, ratio)\n",
    "        N = defaultdict(list)\n",
    "        for (i, j), v in zip(equations, values):\n",
    "            N[i] += (j, 1 / v),; N[j] += (i, v),\n",
    "\n",
    "        # 2, Pick a root for each component, set root value to 1\n",
    "        #    and compute the rest values\n",
    "        P, V = {}, {}\n",
    "        remain = set(N.keys())\n",
    "        while remain:\n",
    "            root = remain.pop()\n",
    "            check = collections.deque([(root, 1)])\n",
    "            while check:\n",
    "                node, val = check.popleft()\n",
    "                P[node], V[node] = root, val\n",
    "                check += [(n, val * r) for n, r in N[node] if n in remain]\n",
    "                remain -= {n for n, _ in N[node]}\n",
    "\n",
    "        # 3, Query\n",
    "        res = []\n",
    "        for q1, q2 in queries:\n",
    "            try:    res += [[-1, V[q1] / V[q2]][P[q1] == P[q2]]]\n",
    "            except: res += [-1]\n",
    "        return res"
   ]
  },
  {
   "cell_type": "markdown",
   "metadata": {},
   "source": [
    "https://leetcode.com/problems/evaluate-division/discuss/88196/Simple'n'Clean-DFS-solution-in-Python"
   ]
  },
  {
   "cell_type": "code",
   "execution_count": null,
   "metadata": {},
   "outputs": [],
   "source": [
    "class Solution:\n",
    "    def calcEquation(self, equations: List[List[str]], values: List[float], queries: List[List[str]]) -> List[float]:\n",
    "        def dfs(start, end, path, paths):\n",
    "            if start == end and start in G:\n",
    "                paths[0] = path\n",
    "                return\n",
    "            if start in vis: \n",
    "                return\n",
    "            vis.add(start)\n",
    "            for node in G[start]:\n",
    "                dfs(node, end, path * W[start, node], paths)\n",
    "        \n",
    "        \n",
    "        G, W = collections.defaultdict(set), collections.defaultdict(float)\n",
    "        for (A, B), V in zip(equations, values):\n",
    "            G[A], G[B] = G[A] | {B}, G[B] | {A}\n",
    "            W[A, B], W[B, A] = V, 1.0 / V\n",
    "            \n",
    "        res = []\n",
    "        for X, Y in queries:\n",
    "            paths, vis = [-1.0], set()\n",
    "            dfs(X, Y, 1.0, paths)\n",
    "            res += paths[0],\n",
    "        return res"
   ]
  }
 ],
 "metadata": {
  "kernelspec": {
   "display_name": "Python 3",
   "language": "python",
   "name": "python3"
  },
  "language_info": {
   "codemirror_mode": {
    "name": "ipython",
    "version": 3
   },
   "file_extension": ".py",
   "mimetype": "text/x-python",
   "name": "python",
   "nbconvert_exporter": "python",
   "pygments_lexer": "ipython3",
   "version": "3.7.0"
  }
 },
 "nbformat": 4,
 "nbformat_minor": 2
}
