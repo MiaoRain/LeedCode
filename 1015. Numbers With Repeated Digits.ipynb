{
 "cells": [
  {
   "cell_type": "code",
   "execution_count": 179,
   "metadata": {},
   "outputs": [],
   "source": [
    "class Solution:\n",
    "    def numDupDigitsAtMostN(self, N: int) -> int:\n",
    "        def prod(A):\n",
    "            c = 1\n",
    "            for i in A:\n",
    "                c*=i\n",
    "            return(c)\n",
    "        \n",
    "        A = [int(i) for i in str(N)]\n",
    "        lenA = len(A)\n",
    "        if len(set(A)) == lenA:\n",
    "            N = N - 1\n",
    "        k = lenA - 1\n",
    "        for j in range(1,len(A)):\n",
    "            if A[j] in A[0:j]:\n",
    "                k = j\n",
    "                break\n",
    "        A = A[0:k+1]+[0]*(lenA - k -1)\n",
    "        B = list(range(10))\n",
    "        x = (A[0]-1)*prod(range(9,10 - lenA, -1))\n",
    "        y = sum([len([x for x in B if x < A[i] and x not in A[0: (i + 1)]]) * prod(range(9 - i, 10 - lenA, -1)) for i in range(1,lenA)])\n",
    "        z = sum( [9 * prod(range(9,10 + i -lenA, -1)) for i in range(1,lenA)] )\n",
    "        return(N - x - y - z)"
   ]
  },
  {
   "cell_type": "code",
   "execution_count": 181,
   "metadata": {},
   "outputs": [
    {
     "name": "stdout",
     "output_type": "stream",
     "text": [
      "[2, 0]\n",
      "9\n",
      "0\n",
      "9\n",
      "1\n"
     ]
    }
   ],
   "source": [
    "def prod(A):\n",
    "    c = 1\n",
    "    for i in A:\n",
    "        c*=i\n",
    "    return(c)\n",
    "\n",
    "N = 20\n",
    "A = [int(i) for i in str(N)]\n",
    "lenA = len(A)\n",
    "if len(set(A)) == lenA:\n",
    "    N = N - 1\n",
    "for j in range(1,len(A)):\n",
    "    if A[j] in A[0:j]:\n",
    "        break\n",
    "A = A[0:j+1]+[0]*(lenA - j -1)\n",
    "print(A)\n",
    "B = list(range(10))\n",
    "x = (A[0]-1)*prod(range(9,10 - lenA, -1))\n",
    "# 位数与 N 相同，且第一位小于 A[0] 的各个位不同的数的个数\n",
    "print(x)\n",
    "y = sum([len([x for x in B if x < A[i] and x not in A[0: (i + 1)]]) * prod(range(9 - i, 10 - lenA, -1)) for i in range(1,lenA)])\n",
    "print(y)\n",
    "# 位数与 N 相同，且第一位是 A[0] 的各个位不同的数的个数\n",
    "z = sum( [9 * prod(range(9,10 + i -lenA, -1)) for i in range(1,lenA)] )\n",
    "print(z)\n",
    "# 位数比 N 少的各个位不同的数的个数\n",
    "print(N - x - y - z)"
   ]
  }
 ],
 "metadata": {
  "kernelspec": {
   "display_name": "Python 3",
   "language": "python",
   "name": "python3"
  },
  "language_info": {
   "codemirror_mode": {
    "name": "ipython",
    "version": 3
   },
   "file_extension": ".py",
   "mimetype": "text/x-python",
   "name": "python",
   "nbconvert_exporter": "python",
   "pygments_lexer": "ipython3",
   "version": "3.7.0"
  }
 },
 "nbformat": 4,
 "nbformat_minor": 2
}
