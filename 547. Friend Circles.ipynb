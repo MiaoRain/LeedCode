{
 "cells": [
  {
   "cell_type": "markdown",
   "metadata": {},
   "source": [
    "测试版本。"
   ]
  },
  {
   "cell_type": "code",
   "execution_count": 17,
   "metadata": {},
   "outputs": [
    {
     "name": "stdout",
     "output_type": "stream",
     "text": [
      "{0: 0}\n",
      "{0: 0, 1: 0}\n",
      "{0: 0, 1: 0}\n",
      "{0: 0, 1: 0, 2: 2}\n",
      "2\n"
     ]
    }
   ],
   "source": [
    "M = [[1,1,0],[1,1,0],[0,0,1]]\n",
    "N = len(M) \n",
    "V = {}\n",
    "\n",
    "def find(g, x):\n",
    "    while g[x] != x:\n",
    "        g[x] = g[g[x]]\n",
    "        x = g[x]\n",
    "    return(x)\n",
    "\n",
    "for i in range(N):\n",
    "    for j in range(i + 1):\n",
    "        if M[i][j] == 1:\n",
    "            V.setdefault(i, i)\n",
    "            V.setdefault(j, j)\n",
    "            V[find(V,i)] = find(V, j)\n",
    "            print(V)\n",
    "print(len(set([find(V,x) for x in V])))"
   ]
  },
  {
   "cell_type": "markdown",
   "metadata": {},
   "source": [
    "执行用时 : 84 ms, 在Friend Circles的Python3提交中击败了58.61% 的用户\n",
    "内存消耗 : 13.3 MB, 在Friend Circles的Python3提交中击败了8.48% 的用户"
   ]
  },
  {
   "cell_type": "code",
   "execution_count": null,
   "metadata": {},
   "outputs": [],
   "source": [
    "# 使用并查集\n",
    "class Solution:\n",
    "    def findCircleNum(self, M: List[List[int]]) -> int:\n",
    "        N = len(M)\n",
    "        # 建立字典，键是人，值最终指向这个等价类的代表元\n",
    "        V = {}\n",
    "\n",
    "        def find(g, x):\n",
    "            while g[x] != x:\n",
    "                g[x] = g[g[x]]\n",
    "                x = g[x]\n",
    "            return(x)\n",
    "\n",
    "        for i in range(N):\n",
    "            for j in range(i + 1):\n",
    "                if M[i][j] == 1:\n",
    "                    V.setdefault(i, i)\n",
    "                    V.setdefault(j, j)\n",
    "                    V[find(V,i)] = find(V, j)\n",
    "        return(len(set([find(V,x) for x in V])))"
   ]
  }
 ],
 "metadata": {
  "kernelspec": {
   "display_name": "Python 3",
   "language": "python",
   "name": "python3"
  },
  "language_info": {
   "codemirror_mode": {
    "name": "ipython",
    "version": 3
   },
   "file_extension": ".py",
   "mimetype": "text/x-python",
   "name": "python",
   "nbconvert_exporter": "python",
   "pygments_lexer": "ipython3",
   "version": "3.7.0"
  }
 },
 "nbformat": 4,
 "nbformat_minor": 2
}
