{
 "cells": [
  {
   "cell_type": "code",
   "execution_count": 8,
   "metadata": {},
   "outputs": [
    {
     "name": "stdout",
     "output_type": "stream",
     "text": [
      "4\n"
     ]
    }
   ],
   "source": [
    "row = [5,6,4,0,2,1,9,3,8,7,11,10]\n",
    "N = int(len(row)/2)\n",
    "l = 0\n",
    "for i in range(N):\n",
    "    if row[2*i] % 2 == 0:\n",
    "        if row[2*i+1] != row[2*i] + 1:\n",
    "            l = l + 1\n",
    "            k = row.index(row[2*i] + 1)\n",
    "            row[k] = row[2*i+1]\n",
    "            row[2*i+1] = row[2*i] + 1\n",
    "    else:\n",
    "        if row[2*i+1] != row[2*i] - 1:\n",
    "            l = l + 1\n",
    "            k = row.index(row[2*i] - 1)\n",
    "            row[k] = row[2*i+1]\n",
    "            row[2*i+1] = row[2*i] - 1\n",
    "print(l)"
   ]
  },
  {
   "cell_type": "code",
   "execution_count": null,
   "metadata": {},
   "outputs": [],
   "source": [
    "class Solution:\n",
    "    def minSwapsCouples(self, row: List[int]) -> int:\n",
    "        N = int(len(row)/2)\n",
    "        l = 0\n",
    "        for i in range(N):\n",
    "            if row[2*i] % 2 == 0:\n",
    "                if row[2*i+1] != row[2*i] + 1:\n",
    "                    l = l + 1\n",
    "                    k = row.index(row[2*i] + 1)\n",
    "                    row[k] = row[2*i+1]\n",
    "                    row[2*i+1] = row[2*i] + 1\n",
    "            else:\n",
    "                if row[2*i+1] != row[2*i] - 1:\n",
    "                    l = l + 1\n",
    "                    k = row.index(row[2*i] - 1)\n",
    "                    row[k] = row[2*i+1]\n",
    "                    row[2*i+1] = row[2*i] - 1\n",
    "        return(l)"
   ]
  }
 ],
 "metadata": {
  "kernelspec": {
   "display_name": "Python 3",
   "language": "python",
   "name": "python3"
  },
  "language_info": {
   "codemirror_mode": {
    "name": "ipython",
    "version": 3
   },
   "file_extension": ".py",
   "mimetype": "text/x-python",
   "name": "python",
   "nbconvert_exporter": "python",
   "pygments_lexer": "ipython3",
   "version": "3.7.0"
  }
 },
 "nbformat": 4,
 "nbformat_minor": 2
}
