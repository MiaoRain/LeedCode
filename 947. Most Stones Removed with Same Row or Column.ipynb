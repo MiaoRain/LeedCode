{
 "cells": [
  {
   "cell_type": "markdown",
   "metadata": {},
   "source": [
    "利用并查集，我们原答案的测试版本。"
   ]
  },
  {
   "cell_type": "code",
   "execution_count": 74,
   "metadata": {},
   "outputs": [
    {
     "data": {
      "text/plain": [
       "5"
      ]
     },
     "execution_count": 74,
     "metadata": {},
     "output_type": "execute_result"
    }
   ],
   "source": [
    "stones = list(map(tuple, [[0,0],[0,1],[1,0],[1,2],[2,1],[2,2]]))\n",
    "graph = { x:x for x in stones } \n",
    "from collections import defaultdict \n",
    "\n",
    "def find(g, x):\n",
    "    while g[x] != x:\n",
    "        g[x] = g[g[x]]\n",
    "        x = g[x]\n",
    "    return(x)\n",
    "\n",
    "            \n",
    "for i in range(len(stones)-1):\n",
    "    for j in range(i + 1, len(stones)):\n",
    "# 可替代为 for i, j in itertools.combinations(stones, 2)\n",
    "        if stones[i][0] == stones[j][0] or stones[i][1] == stones[j][1]:\n",
    "            if find(graph, stones[i]) != find(graph, stones[j]):\n",
    "                graph[find(graph, stones[i])] = find(graph, stones[j])\n",
    "con_comp = defaultdict(int)\n",
    "\n",
    "for x in stones:\n",
    "    con_comp[find(graph, x)] += 1\n",
    "sum([i - 1 for i in con_comp.values()])"
   ]
  },
  {
   "cell_type": "markdown",
   "metadata": {},
   "source": [
    "网上找的一个优化的版本：\n",
    "https://blog.csdn.net/qq_17550379/article/details/84993657\n",
    "只用一次循环就行，但是用了特殊的字典技巧。"
   ]
  },
  {
   "cell_type": "code",
   "execution_count": null,
   "metadata": {},
   "outputs": [],
   "source": [
    "class Solution:\n",
    "    def removeStones(self, stones):\n",
    "        \"\"\"\n",
    "        :type stones: List[List[int]]\n",
    "        :rtype: int\n",
    "        \"\"\"\n",
    "        UF = {}\n",
    "        def find(x):\n",
    "            if x != UF[x]:\n",
    "                UF[x] = find(UF[x])\n",
    "            return UF[x]\n",
    "        \n",
    "        def union(x, y):\n",
    "            UF.setdefault(x, x)\n",
    "            UF.setdefault(y, y)\n",
    "            UF[find(x)] = find(y)\n",
    "\n",
    "        for x, y in stones:\n",
    "            union(x, ~y)\n",
    "            # 要区分横纵坐标，所以纵坐标要用 ~y。最后的 UF 中 value 值相同的元在同一个连通分支。\n",
    "        return len(stones) - len({find(x) for x in UF})"
   ]
  },
  {
   "cell_type": "code",
   "execution_count": 53,
   "metadata": {},
   "outputs": [],
   "source": [
    "class Solution:\n",
    "    def removeStones(self, stones):\n",
    "        \"\"\"\n",
    "        :type stones: List[List[int]]\n",
    "        :rtype: int\n",
    "        \"\"\"\n",
    "        UF = {}\n",
    "        def find(UF, x):\n",
    "            while x != UF[x]:\n",
    "                UF[x] = UF[UF[x]]\n",
    "                x = UF[x]\n",
    "            return(x)\n",
    "        \n",
    "        def union(UF, x, y):\n",
    "            UF.setdefault(x, x)\n",
    "            UF.setdefault(y, y)\n",
    "            UF[find(UF, x)] = find(UF, y)\n",
    "\n",
    "        for i, j in stones:\n",
    "            union(UF, i, ~j)\n",
    "        return len(stones) - len({find(UF, x) for x in UF})"
   ]
  },
  {
   "cell_type": "code",
   "execution_count": 71,
   "metadata": {},
   "outputs": [
    {
     "name": "stdout",
     "output_type": "stream",
     "text": [
      "0 0 {0: -1, -1: -1}\n",
      "0 1 {0: -1, -1: -2, -2: -2}\n",
      "1 0 {0: -1, -1: -2, -2: -2, 1: -2}\n",
      "1 2 {0: -1, -1: -2, -2: -3, 1: -2, -3: -3}\n",
      "2 1 {0: -1, -1: -2, -2: -3, 1: -2, -3: -3, 2: -3}\n",
      "2 2 {0: -1, -1: -2, -2: -3, 1: -2, -3: -3, 2: -3}\n",
      "{0: -1, -1: -2, -2: -3, 1: -2, -3: -3, 2: -3}\n"
     ]
    }
   ],
   "source": [
    "stones = [[0,0],[0,1],[1,0],[1,2],[2,1],[2,2]]\n",
    "UF = {}\n",
    "def find(x):\n",
    "    if x != UF[x]:\n",
    "        UF[x] = find(UF[x])\n",
    "    return UF[x]\n",
    "\n",
    "def union(x, y):\n",
    "    UF.setdefault(x, x)\n",
    "    UF.setdefault(y, y)\n",
    "    UF[find(x)] = find(y)\n",
    "for i, j in stones:\n",
    "    union(i,~j)\n",
    "    print(i,j,UF)\n",
    "print(UF)"
   ]
  },
  {
   "cell_type": "markdown",
   "metadata": {},
   "source": [
    "三维版本的扩展尝试。"
   ]
  },
  {
   "cell_type": "code",
   "execution_count": 76,
   "metadata": {},
   "outputs": [
    {
     "name": "stdout",
     "output_type": "stream",
     "text": [
      "0 10 20 {0: 10, 10: 20, 20: 20}\n",
      "0 18 25 {0: 20, 10: 20, 20: 18, 18: 25, 25: 25}\n",
      "4 18 25 {0: 20, 10: 20, 20: 18, 18: 25, 25: 25, 4: 25}\n",
      "1 12 35 {0: 20, 10: 20, 20: 18, 18: 25, 25: 25, 4: 25, 1: 12, 12: 35, 35: 35}\n",
      "5 12 38 {0: 20, 10: 20, 20: 18, 18: 25, 25: 25, 4: 25, 1: 12, 12: 35, 35: 38, 5: 35, 38: 38}\n",
      "6 16 26 {0: 20, 10: 20, 20: 18, 18: 25, 25: 25, 4: 25, 1: 12, 12: 35, 35: 38, 5: 35, 38: 38, 6: 16, 16: 26, 26: 26}\n",
      "{25, 26, 38}\n"
     ]
    }
   ],
   "source": [
    "stones = [[0,10,20],[0,18,25],[4,18,25],[1,12,35],[5,12,38],[6,16,26]]\n",
    "UF = {}\n",
    "\n",
    "def find(x):\n",
    "    if x != UF[x]:\n",
    "        UF[x] = find(UF[x])\n",
    "    return UF[x]\n",
    "\n",
    "def union(x, y, z):\n",
    "    UF.setdefault(x, x)\n",
    "    UF.setdefault(y, y)\n",
    "    UF.setdefault(z, z)\n",
    "    UF[find(x)] = find(y)\n",
    "    UF[find(y)] = find(z)\n",
    "    \n",
    "for x, y, z in stones:\n",
    "    union(x, y, z)\n",
    "    print(x, y, z, UF)\n",
    "print(set([find(x) for x in UF]))"
   ]
  },
  {
   "cell_type": "code",
   "execution_count": null,
   "metadata": {},
   "outputs": [],
   "source": []
  }
 ],
 "metadata": {
  "kernelspec": {
   "display_name": "Python 3",
   "language": "python",
   "name": "python3"
  },
  "language_info": {
   "codemirror_mode": {
    "name": "ipython",
    "version": 3
   },
   "file_extension": ".py",
   "mimetype": "text/x-python",
   "name": "python",
   "nbconvert_exporter": "python",
   "pygments_lexer": "ipython3",
   "version": "3.7.0"
  }
 },
 "nbformat": 4,
 "nbformat_minor": 2
}
