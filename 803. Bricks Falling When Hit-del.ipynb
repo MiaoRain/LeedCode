{
 "cells": [
  {
   "cell_type": "code",
   "execution_count": 195,
   "metadata": {},
   "outputs": [],
   "source": [
    "def graph(grid):\n",
    "    m = len(grid)\n",
    "    n = len(grid[0])\n",
    "    graph = {}\n",
    "\n",
    "\n",
    "    for i in range(m):\n",
    "        for j in range(n):\n",
    "            # 最上面一行只和自己相连接\n",
    "            if i == 0:\n",
    "                if grid[i][j] == 1:\n",
    "                    graph.setdefault((i,j), [])\n",
    "                    if grid[i + 1][j] == 1:\n",
    "                        graph[(i, j)].append((i + 1, j))\n",
    "\n",
    "            # 左下角的元素\n",
    "            elif i == m - 1 and j == 0:\n",
    "                if grid[i][j] == 1:\n",
    "                    graph.setdefault((i,j), [])\n",
    "                    if n > 1: \n",
    "                        if grid[i][j + 1] == 1:\n",
    "                            graph[(i, j)].append((i, j + 1))\n",
    "                    if grid[i - 1][j] == 1:\n",
    "                        graph[(i, j)].append((i - 1, j))\n",
    "            \n",
    "            # 第一列其他元素            \n",
    "            elif j == 0:\n",
    "                if grid[i][j] == 1:\n",
    "                    graph.setdefault((i,j), [])\n",
    "                    if grid[i - 1][j] == 1:\n",
    "                        graph[(i, j)].append((i - 1, j))\n",
    "                    if grid[i + 1][j] == 1:\n",
    "                        graph[(i, j)].append((i + 1, j))\n",
    "                    if n > 1:    \n",
    "                        if grid[i][j + 1] == 1:\n",
    "                            graph[(i, j)].append((i, j + 1))\n",
    "                        \n",
    "\n",
    "            # 右下角的元素\n",
    "            elif i == m - 1 and j == n - 1:\n",
    "                if grid[i][j] == 1:\n",
    "                    graph.setdefault((i,j), [])\n",
    "                    if grid[i - 1][j] == 1:\n",
    "                        graph[(i, j)].append((i - 1, j))\n",
    "                    if grid[i][j - 1] == 1:\n",
    "                        graph[(i, j)].append((i, j - 1))\n",
    "\n",
    "\n",
    "            # 最后一行除去左下角和右下角的元素            \n",
    "            elif i == m - 1:\n",
    "                if grid[i][j] == 1:\n",
    "                    graph.setdefault((i,j), [])\n",
    "                    if grid[i - 1][j] == 1:\n",
    "                        graph[(i, j)].append((i - 1, j))\n",
    "                    if grid[i][j - 1] == 1:\n",
    "                        graph[(i, j)].append((i, j - 1))\n",
    "                    if grid[i][j + 1] == 1:\n",
    "                        graph[(i, j)].append((i, j + 1))\n",
    "\n",
    "\n",
    "            # 最后一列其他元素            \n",
    "            elif j == n - 1:\n",
    "                if grid[i][j] == 1:\n",
    "                    graph.setdefault((i,j), [])\n",
    "                    if grid[i - 1][j] == 1:\n",
    "                        graph[(i, j)].append((i - 1, j))\n",
    "                    if grid[i + 1][j] == 1:\n",
    "                        graph[(i, j)].append((i + 1, j))\n",
    "                    if grid[i][j - 1] == 1:\n",
    "                        graph[(i, j)].append((i, j - 1))\n",
    "            # 剩下中间区域的元素\n",
    "            else:\n",
    "                if grid[i][j] == 1:\n",
    "                    graph.setdefault((i,j), [])\n",
    "                    if grid[i - 1][j] == 1:\n",
    "                        graph[(i, j)].append((i - 1, j))\n",
    "                    if grid[i + 1][j] == 1:\n",
    "                        graph[(i, j)].append((i + 1, j))\n",
    "                    if grid[i][j - 1] == 1:\n",
    "                        graph[(i, j)].append((i, j - 1))\n",
    "                    if grid[i][j + 1] == 1:\n",
    "                        graph[(i, j)].append((i, j + 1))\n",
    "    return(graph)"
   ]
  },
  {
   "cell_type": "code",
   "execution_count": 169,
   "metadata": {},
   "outputs": [],
   "source": [
    "def DFS(graph, s):\n",
    "    stack = []\n",
    "    stack.append(s)\n",
    "    seen = set()\n",
    "    seen.add(s)\n",
    "    drop = set()\n",
    "    \n",
    "    while len(stack) > 0:\n",
    "        vertex = stack.pop()\n",
    "        if vertex[0] == 0:\n",
    "            drop = set()\n",
    "            break\n",
    "        else:\n",
    "            drop.add(vertex)\n",
    "            nodes = graph[vertex]\n",
    "            for v in nodes:\n",
    "                if v not in seen:\n",
    "                    stack.append(v)\n",
    "                    seen.add(v)\n",
    "                    \n",
    "    return(drop, len(drop))"
   ]
  },
  {
   "cell_type": "code",
   "execution_count": 170,
   "metadata": {},
   "outputs": [],
   "source": [
    "def hit(graph, x):\n",
    "    drop_total = set()\n",
    "    nodes = graph[tuple(x)]\n",
    "    del(graph[tuple(x)])\n",
    "    for y in nodes:\n",
    "        graph[y].remove(tuple(x))\n",
    "        drop, num = DFS(graph, y)\n",
    "        drop_total = drop_total|drop\n",
    "    return(drop_total, len(drop_total))"
   ]
  },
  {
   "cell_type": "code",
   "execution_count": 220,
   "metadata": {
    "scrolled": true
   },
   "outputs": [
    {
     "name": "stdout",
     "output_type": "stream",
     "text": [
      "{(0, 1): [(1, 1)], (0, 2): [(1, 2)], (0, 3): [(1, 3)], (0, 4): [], (1, 0): [(2, 0), (1, 1)], (1, 1): [(0, 1), (2, 1), (1, 0), (1, 2)], (1, 2): [(0, 2), (2, 2), (1, 1), (1, 3)], (1, 3): [(0, 3), (2, 3), (1, 2)], (2, 0): [(1, 0), (2, 1)], (2, 1): [(1, 1), (2, 0), (2, 2)], (2, 2): [(1, 2), (3, 2), (2, 1), (2, 3)], (2, 3): [(1, 3), (3, 3), (2, 2)], (3, 2): [(2, 2), (4, 2), (3, 3)], (3, 3): [(2, 3), (3, 2)], (4, 2): [(3, 2), (5, 2)], (5, 2): [(4, 2)]}\n",
      "[6, 0]\n",
      "[[0, 1, 1, 1, 1], [1, 1, 1, 1, 0], [1, 1, 1, 1, 0], [0, 0, 1, 1, 0], [0, 0, 1, 0, 0], [0, 0, 1, 0, 0], [0, 0, 0, 0, 0], [0, 0, 0, 0, 0], [0, 0, 0, 0, 0]]\n",
      "[1, 0]\n",
      "[4, 3]\n",
      "[[0, 1, 1, 1, 1], [0, 1, 1, 1, 0], [1, 1, 1, 1, 0], [0, 0, 1, 1, 0], [0, 0, 1, 0, 0], [0, 0, 1, 0, 0], [0, 0, 0, 0, 0], [0, 0, 0, 0, 0], [0, 0, 0, 0, 0]]\n",
      "[1, 2]\n"
     ]
    },
    {
     "ename": "KeyError",
     "evalue": "(1, 2)",
     "output_type": "error",
     "traceback": [
      "\u001b[1;31m---------------------------------------------------------------------------\u001b[0m",
      "\u001b[1;31mKeyError\u001b[0m                                  Traceback (most recent call last)",
      "\u001b[1;32m<ipython-input-220-35f78bc3556d>\u001b[0m in \u001b[0;36m<module>\u001b[1;34m()\u001b[0m\n\u001b[0;32m     10\u001b[0m     \u001b[1;32melse\u001b[0m\u001b[1;33m:\u001b[0m\u001b[1;33m\u001b[0m\u001b[0m\n\u001b[0;32m     11\u001b[0m         \u001b[0mg\u001b[0m \u001b[1;33m=\u001b[0m \u001b[0mgraph\u001b[0m\u001b[1;33m(\u001b[0m\u001b[0mgrid\u001b[0m\u001b[1;33m)\u001b[0m\u001b[1;33m\u001b[0m\u001b[0m\n\u001b[1;32m---> 12\u001b[1;33m         \u001b[0mdrop\u001b[0m\u001b[1;33m,\u001b[0m \u001b[0mnum\u001b[0m\u001b[1;33m=\u001b[0m \u001b[0mhit\u001b[0m\u001b[1;33m(\u001b[0m\u001b[0mg\u001b[0m\u001b[1;33m,\u001b[0m \u001b[0mx\u001b[0m\u001b[1;33m)\u001b[0m\u001b[1;33m\u001b[0m\u001b[0m\n\u001b[0m\u001b[0;32m     13\u001b[0m         \u001b[0mfinal\u001b[0m\u001b[1;33m.\u001b[0m\u001b[0mappend\u001b[0m\u001b[1;33m(\u001b[0m\u001b[0mnum\u001b[0m\u001b[1;33m)\u001b[0m\u001b[1;33m\u001b[0m\u001b[0m\n\u001b[0;32m     14\u001b[0m         \u001b[0mgrid\u001b[0m\u001b[1;33m[\u001b[0m\u001b[0mx\u001b[0m\u001b[1;33m[\u001b[0m\u001b[1;36m0\u001b[0m\u001b[1;33m]\u001b[0m\u001b[1;33m]\u001b[0m\u001b[1;33m[\u001b[0m\u001b[0mx\u001b[0m\u001b[1;33m[\u001b[0m\u001b[1;36m1\u001b[0m\u001b[1;33m]\u001b[0m\u001b[1;33m]\u001b[0m \u001b[1;33m=\u001b[0m \u001b[1;36m0\u001b[0m\u001b[1;33m\u001b[0m\u001b[0m\n",
      "\u001b[1;32m<ipython-input-207-22d429a8c6c9>\u001b[0m in \u001b[0;36mhit\u001b[1;34m(graph, x)\u001b[0m\n\u001b[0;32m     20\u001b[0m     \u001b[1;32mfor\u001b[0m \u001b[0my\u001b[0m \u001b[1;32min\u001b[0m \u001b[0mnodes\u001b[0m\u001b[1;33m:\u001b[0m\u001b[1;33m\u001b[0m\u001b[0m\n\u001b[0;32m     21\u001b[0m         \u001b[0mgraph\u001b[0m\u001b[1;33m[\u001b[0m\u001b[0my\u001b[0m\u001b[1;33m]\u001b[0m\u001b[1;33m.\u001b[0m\u001b[0mremove\u001b[0m\u001b[1;33m(\u001b[0m\u001b[0mtuple\u001b[0m\u001b[1;33m(\u001b[0m\u001b[0mx\u001b[0m\u001b[1;33m)\u001b[0m\u001b[1;33m)\u001b[0m\u001b[1;33m\u001b[0m\u001b[0m\n\u001b[1;32m---> 22\u001b[1;33m         \u001b[0mdrop\u001b[0m\u001b[1;33m,\u001b[0m \u001b[0mnum\u001b[0m \u001b[1;33m=\u001b[0m \u001b[0mDFS\u001b[0m\u001b[1;33m(\u001b[0m\u001b[0mgraph\u001b[0m\u001b[1;33m,\u001b[0m \u001b[0my\u001b[0m\u001b[1;33m)\u001b[0m\u001b[1;33m\u001b[0m\u001b[0m\n\u001b[0m\u001b[0;32m     23\u001b[0m         \u001b[0mdrop_total\u001b[0m \u001b[1;33m=\u001b[0m \u001b[0mdrop_total\u001b[0m\u001b[1;33m|\u001b[0m\u001b[0mdrop\u001b[0m\u001b[1;33m\u001b[0m\u001b[0m\n\u001b[0;32m     24\u001b[0m     \u001b[1;32mreturn\u001b[0m\u001b[1;33m(\u001b[0m\u001b[0mdrop_total\u001b[0m\u001b[1;33m,\u001b[0m \u001b[0mlen\u001b[0m\u001b[1;33m(\u001b[0m\u001b[0mdrop_total\u001b[0m\u001b[1;33m)\u001b[0m\u001b[1;33m)\u001b[0m\u001b[1;33m\u001b[0m\u001b[0m\n",
      "\u001b[1;32m<ipython-input-169-5f688d7cb7db>\u001b[0m in \u001b[0;36mDFS\u001b[1;34m(graph, s)\u001b[0m\n\u001b[0;32m     13\u001b[0m         \u001b[1;32melse\u001b[0m\u001b[1;33m:\u001b[0m\u001b[1;33m\u001b[0m\u001b[0m\n\u001b[0;32m     14\u001b[0m             \u001b[0mdrop\u001b[0m\u001b[1;33m.\u001b[0m\u001b[0madd\u001b[0m\u001b[1;33m(\u001b[0m\u001b[0mvertex\u001b[0m\u001b[1;33m)\u001b[0m\u001b[1;33m\u001b[0m\u001b[0m\n\u001b[1;32m---> 15\u001b[1;33m             \u001b[0mnodes\u001b[0m \u001b[1;33m=\u001b[0m \u001b[0mgraph\u001b[0m\u001b[1;33m[\u001b[0m\u001b[0mvertex\u001b[0m\u001b[1;33m]\u001b[0m\u001b[1;33m\u001b[0m\u001b[0m\n\u001b[0m\u001b[0;32m     16\u001b[0m             \u001b[1;32mfor\u001b[0m \u001b[0mv\u001b[0m \u001b[1;32min\u001b[0m \u001b[0mnodes\u001b[0m\u001b[1;33m:\u001b[0m\u001b[1;33m\u001b[0m\u001b[0m\n\u001b[0;32m     17\u001b[0m                 \u001b[1;32mif\u001b[0m \u001b[0mv\u001b[0m \u001b[1;32mnot\u001b[0m \u001b[1;32min\u001b[0m \u001b[0mseen\u001b[0m\u001b[1;33m:\u001b[0m\u001b[1;33m\u001b[0m\u001b[0m\n",
      "\u001b[1;31mKeyError\u001b[0m: (1, 2)"
     ]
    }
   ],
   "source": [
    "grid = [[0,1,1,1,1],[1,1,1,1,0],[1,1,1,1,0],[0,0,1,1,0],[0,0,1,0,0],[0,0,1,0,0],[0,0,0,0,0],[0,0,0,0,0],[0,0,0,0,0]]\n",
    "hits = [[6,0],[1,0],[4,3],[1,2],[7,1],[6,3],[5,2],[5,1],[2,4],[4,4],[7,3]]\n",
    "print(graph(grid))\n",
    "final = []\n",
    "for x in hits:\n",
    "    print(x)\n",
    "    if grid[x[0]][x[1]] == 0:\n",
    "        final.append(0)\n",
    "        print(grid)\n",
    "    else:\n",
    "        g = graph(grid)\n",
    "        drop, num= hit(g, x)\n",
    "        final.append(num)\n",
    "        grid[x[0]][x[1]] = 0\n",
    "        for i, j in drop:\n",
    "            grid[i][j] = 0\n",
    "            print(grid)\n",
    "print(final)"
   ]
  },
  {
   "cell_type": "code",
   "execution_count": null,
   "metadata": {},
   "outputs": [],
   "source": [
    "grid = [[0,1,1,1,1],[1,1,1,1,0],[1,1,1,1,0],[0,0,1,1,0],[0,0,1,0,0],[0,0,1,0,0],[0,0,0,0,0],[0,0,0,0,0],[0,0,0,0,0]]\n",
    "hits = [[6,0],[1,0],[4,3],[1,2],[7,1],[6,3],[5,2],[5,1],[2,4],[4,4],[7,3]]\n",
    "print(graph(grid))\n",
    "final = []\n",
    "for x in hits:\n",
    "    print(x)\n",
    "    if grid[x[0]][x[1]] == 0:\n",
    "        final.append(0)\n",
    "        print(grid)\n",
    "    else:\n",
    "        g = graph(grid)\n",
    "        drop, num= hit(g, x)\n",
    "        final.append(num)\n",
    "        grid[x[0]][x[1]] = 0\n",
    "        for i, j in drop:\n",
    "            grid[i][j] = 0\n",
    "            print(grid)\n",
    "print(final)"
   ]
  },
  {
   "cell_type": "code",
   "execution_count": 207,
   "metadata": {
    "scrolled": true
   },
   "outputs": [
    {
     "name": "stdout",
     "output_type": "stream",
     "text": [
      "{(0, 1): [(1, 1)], (0, 2): [(1, 2)], (0, 3): [(1, 3)], (0, 4): [], (1, 0): [(2, 0), (1, 1)], (1, 1): [(0, 1), (2, 1), (1, 0), (1, 2)], (1, 2): [(0, 2), (2, 2), (1, 1), (1, 3)], (1, 3): [(0, 3), (2, 3), (1, 2)], (2, 0): [(1, 0), (2, 1)], (2, 1): [(1, 1), (2, 0), (2, 2)], (2, 2): [(1, 2), (3, 2), (2, 1), (2, 3)], (2, 3): [(1, 3), (3, 3), (2, 2)], (3, 2): [(2, 2), (4, 2), (3, 3)], (3, 3): [(2, 3), (3, 2)], (4, 2): [(3, 2), (5, 2)], (5, 2): [(4, 2)]}\n",
      "[(2, 0), (1, 1)]\n",
      "set() 0\n"
     ]
    }
   ],
   "source": [
    "grid = [[0, 1, 1, 1, 1], [1, 1, 1, 1, 0], [1, 1, 1, 1, 0], [0, 0, 1, 1, 0], [0, 0, 1, 0, 0], [0, 0, 1, 0, 0], [0, 0, 0, 0, 0], [0, 0, 0, 0, 0], [0, 0, 0, 0, 0]]\n",
    "g = graph(grid)\n",
    "print(g)\n",
    "drop_total = set()\n",
    "x = [1,0]\n",
    "nodes = g[tuple(x)]\n",
    "print(nodes)\n",
    "del(g[tuple(x)])\n",
    "for y in nodes:\n",
    "    g[y].remove(tuple(x))\n",
    "    drop, num = DFS(g, y)\n",
    "    drop_total = drop_total|drop\n",
    "print(drop_total, len(drop_total))\n",
    "\n",
    "\n",
    "def hit(graph, x):\n",
    "    drop_total = set()\n",
    "    nodes = graph[tuple(x)]\n",
    "    del(graph[tuple(x)])\n",
    "    for y in nodes:\n",
    "        graph[y].remove(tuple(x))\n",
    "        drop, num = DFS(graph, y)\n",
    "        drop_total = drop_total|drop\n",
    "    return(drop_total, len(drop_total))"
   ]
  },
  {
   "cell_type": "code",
   "execution_count": 248,
   "metadata": {},
   "outputs": [
    {
     "name": "stdout",
     "output_type": "stream",
     "text": [
      "[3, 0]\n",
      "[[1], [1], [1], [0], [0]]\n",
      "[4, 0]\n",
      "[[1], [1], [1], [0], [0]]\n",
      "[1, 0]\n",
      "[[1], [0], [0], [0], [0]]\n",
      "[2, 0]\n",
      "[[1], [0], [0], [0], [0]]\n",
      "[0, 0]\n",
      "[1, 0, 1, 0, 0]\n"
     ]
    }
   ],
   "source": [
    "grid = [[1],[1],[1],[1],[1]]\n",
    "hits = [[3,0],[4,0],[1,0],[2,0],[0,0]]\n",
    "final = []\n",
    "for x in hits:\n",
    "    print(x)\n",
    "    if grid[x[0]][x[1]] == 0:\n",
    "        final.append(0)\n",
    "        print(grid)\n",
    "    else:\n",
    "        g = graph(grid)\n",
    "        drop, num= hit(g, x)\n",
    "        final.append(num)\n",
    "        grid[x[0]][x[1]] = 0\n",
    "        for i, j in drop:\n",
    "            grid[i][j] = 0\n",
    "            print(grid)\n",
    "print(final)"
   ]
  },
  {
   "cell_type": "code",
   "execution_count": 249,
   "metadata": {},
   "outputs": [],
   "source": [
    "graph = {(0, 1): [(1, 1)], (0, 2): [(1, 2)]}\n",
    "del(graph[tuple((0,1))])"
   ]
  },
  {
   "cell_type": "code",
   "execution_count": 250,
   "metadata": {},
   "outputs": [
    {
     "data": {
      "text/plain": [
       "{(0, 2): [(1, 2)]}"
      ]
     },
     "execution_count": 250,
     "metadata": {},
     "output_type": "execute_result"
    }
   ],
   "source": [
    "graph"
   ]
  },
  {
   "cell_type": "code",
   "execution_count": null,
   "metadata": {},
   "outputs": [],
   "source": []
  }
 ],
 "metadata": {
  "kernelspec": {
   "display_name": "Python 3",
   "language": "python",
   "name": "python3"
  },
  "language_info": {
   "codemirror_mode": {
    "name": "ipython",
    "version": 3
   },
   "file_extension": ".py",
   "mimetype": "text/x-python",
   "name": "python",
   "nbconvert_exporter": "python",
   "pygments_lexer": "ipython3",
   "version": "3.7.0"
  }
 },
 "nbformat": 4,
 "nbformat_minor": 2
}
