{
 "cells": [
  {
   "cell_type": "markdown",
   "metadata": {},
   "source": [
    "测试版本，利用并查集，整体的思路是所有连通的 1 在一个等价类。"
   ]
  },
  {
   "cell_type": "code",
   "execution_count": 70,
   "metadata": {},
   "outputs": [
    {
     "name": "stdout",
     "output_type": "stream",
     "text": [
      "{(0, 0): (0, 0)}\n",
      "{(0, 0): (0, 0), (0, 1): (0, 0)}\n",
      "{(0, 0): (0, 0), (0, 1): (0, 0), (0, 2): (0, 0)}\n",
      "{(0, 0): (0, 0), (0, 1): (0, 0), (0, 2): (0, 0), (1, 0): (0, 0)}\n",
      "{(0, 0): (0, 0), (0, 1): (0, 0), (0, 2): (0, 0), (1, 0): (0, 0), (1, 1): (0, 0)}\n",
      "{(0, 0): (0, 0), (0, 1): (0, 0), (0, 2): (0, 0), (1, 0): (0, 0), (1, 1): (0, 0), (1, 2): (0, 0)}\n",
      "{(0, 0): (0, 0), (0, 1): (0, 0), (0, 2): (0, 0), (1, 0): (0, 0), (1, 1): (0, 0), (1, 2): (0, 0), (2, 0): (0, 0)}\n",
      "{(0, 0): (0, 0), (0, 1): (0, 0), (0, 2): (0, 0), (1, 0): (0, 0), (1, 1): (0, 0), (1, 2): (0, 0), (2, 0): (0, 0), (2, 1): (0, 0)}\n",
      "{(0, 0): (0, 0), (0, 1): (0, 0), (0, 2): (0, 0), (1, 0): (0, 0), (1, 1): (0, 0), (1, 2): (0, 0), (2, 0): (0, 0), (2, 1): (0, 0), (2, 2): (0, 0)}\n"
     ]
    },
    {
     "data": {
      "text/plain": [
       "1"
      ]
     },
     "execution_count": 70,
     "metadata": {},
     "output_type": "execute_result"
    }
   ],
   "source": [
    "grid = [[\"1\",\"1\",\"1\"],[\"1\",\"1\",\"1\"],[\"1\",\"1\",\"1\"]]\n",
    "w = len(grid)\n",
    "\n",
    "if w > 0:\n",
    "    l = len(grid[0])\n",
    "else:\n",
    "    l = 0\n",
    "\n",
    "V = {}\n",
    "\n",
    "def find(g, x):\n",
    "    while g[x] != x:\n",
    "        g[x] = g[g[x]]\n",
    "        x = g[x]\n",
    "    return(x)\n",
    "\n",
    "\n",
    "for i in range(w):\n",
    "    for j in range(l):\n",
    "        if grid[i][j] == \"1\":\n",
    "            V.setdefault((i,j), (i,j))\n",
    "            if i > 0 and grid[i - 1][j] == \"1\":\n",
    "                V[find(V, (i, j))] = find(V, (i - 1, j))\n",
    "            if j > 0 and grid[i][j - 1] == \"1\":\n",
    "                V[find(V, (i, j))] = find(V, (i, j - 1))\n",
    "            print(V)\n",
    "            \n",
    "len(set([find(V, x) for x in V.keys()]))"
   ]
  },
  {
   "cell_type": "markdown",
   "metadata": {},
   "source": [
    "执行用时 : 112 ms, 在Number of Islands的Python3提交中击败了43.51% 的用户\n",
    "内存消耗 : 16.9 MB, 在Number of Islands的Python3提交中击败了1.05% 的用户"
   ]
  },
  {
   "cell_type": "code",
   "execution_count": 62,
   "metadata": {},
   "outputs": [
    {
     "data": {
      "text/plain": [
       "0"
      ]
     },
     "execution_count": 62,
     "metadata": {},
     "output_type": "execute_result"
    }
   ],
   "source": [
    "# 利用并查集，整体的思路是所有连通的 1 在一个等价类。\n",
    "class Solution:\n",
    "    def numIslands(self, grid: List[List[str]]) -> int:\n",
    "        # 判断是否为空的列表\n",
    "        w = len(grid)\n",
    "        if w > 0:\n",
    "            l = len(grid[0])\n",
    "        else:\n",
    "            l = 0\n",
    "        # 建立空的字典，之后键是元素为 1 的位置坐标，通过 find 找到最终的根节点是等价类的代表元\n",
    "        V = {}\n",
    "\n",
    "        def find(g, x):\n",
    "            while g[x] != x:\n",
    "                g[x] = g[g[x]]\n",
    "                x = g[x]\n",
    "            return(x)\n",
    "\n",
    "\n",
    "        for i in range(w):\n",
    "            for j in range(l):\n",
    "                if grid[i][j] == \"1\":\n",
    "                    V.setdefault((i,j), (i,j))\n",
    "                    if i > 0 and grid[i - 1][j] == \"1\":\n",
    "                        V[find(V, (i, j))] = find(V, (i - 1, j))\n",
    "                    if j > 0 and grid[i][j - 1] == \"1\":\n",
    "                        V[find(V, (i, j))] = find(V, (i, j - 1))\n",
    "\n",
    "\n",
    "        return(len(set([find(V, x) for x in V.keys()])))"
   ]
  },
  {
   "cell_type": "markdown",
   "metadata": {},
   "source": [
    "参考资料：\n",
    "https://blog.csdn.net/wangsiyu34567/article/details/82823499\n",
    "递归的去做，只要有 1，其连通部分将全部变为 0，计数增加 1。"
   ]
  },
  {
   "cell_type": "code",
   "execution_count": null,
   "metadata": {},
   "outputs": [],
   "source": [
    "class Solution:\n",
    "    def numIslands(self, grid):\n",
    "        \"\"\"\n",
    "        :type grid: List[List[str]]\n",
    "        :rtype: int\n",
    "        \"\"\"\n",
    "        n = len(grid)\n",
    "        if n == 0: return 0\n",
    "        m = len(grid[0])\n",
    "        if m == 0: return 0\n",
    "        res = 0\n",
    "        # 遍历每一个字符\n",
    "        for i in range(n):\n",
    "            for j in range(m):\n",
    "                # 如果遍历字符是陆地\"1\"\n",
    "                if grid[i][j] == \"1\":\n",
    "                    res += 1\n",
    "                    # 递归查找与这块陆地相连的所有陆地 并将他们改为零\n",
    "                    self.change(grid, i, j)\n",
    "        return res\n",
    "\n",
    "    def change(self, grid, i, j):\n",
    "        grid[i][j] = \"0\"\n",
    "        # 判断上方字符\n",
    "        if i > 0 and grid[i - 1][j] == \"1\":\n",
    "            self.change(grid, i - 1, j)\n",
    "        # 判断左方字符\n",
    "        if j > 0 and grid[i][j - 1] == \"1\":\n",
    "            self.change(grid, i, j - 1)\n",
    "        # 判断下方字符\n",
    "        if i < len(grid) - 1 and grid[i + 1][j] == \"1\":\n",
    "            self.change(grid, i + 1, j)\n",
    "        # 判断右方字符\n",
    "        if j < len(grid[0]) - 1 and grid[i][j + 1] == \"1\":\n",
    "            self.change(grid, i, j + 1)\n"
   ]
  }
 ],
 "metadata": {
  "kernelspec": {
   "display_name": "Python 3",
   "language": "python",
   "name": "python3"
  },
  "language_info": {
   "codemirror_mode": {
    "name": "ipython",
    "version": 3
   },
   "file_extension": ".py",
   "mimetype": "text/x-python",
   "name": "python",
   "nbconvert_exporter": "python",
   "pygments_lexer": "ipython3",
   "version": "3.7.0"
  }
 },
 "nbformat": 4,
 "nbformat_minor": 2
}
