{
 "cells": [
  {
   "cell_type": "code",
   "execution_count": 6,
   "metadata": {},
   "outputs": [],
   "source": [
    "import scipy.special\n",
    "def superEggDrop1(K,N):\n",
    "    binomial = 0\n",
    "    d = 1\n",
    "    while(binomial < N):\n",
    "        binomial = sum([scipy.special.comb(d, i, exact=True) for i in range(1,K + 1)])\n",
    "        d = d + 1\n",
    "    return(d-1)"
   ]
  },
  {
   "cell_type": "code",
   "execution_count": 2,
   "metadata": {},
   "outputs": [
    {
     "data": {
      "text/plain": [
       "25"
      ]
     },
     "execution_count": 2,
     "metadata": {},
     "output_type": "execute_result"
    }
   ],
   "source": [
    "from math import factorial as fac\n",
    "class Solution:\n",
    "    def superEggDrop2(self, K: int, N: int) -> int:\n",
    "        binomial = 0\n",
    "        d = 1\n",
    "        while(binomial < N):\n",
    "            binomial = sum([fac(d)/(fac(i)*fac(d-i)) for i in range(1,min(d + 1,K + 1))])\n",
    "            d = d + 1\n",
    "        return(d-1)"
   ]
  },
  {
   "cell_type": "code",
   "execution_count": 7,
   "metadata": {},
   "outputs": [
    {
     "data": {
      "text/plain": [
       "4"
      ]
     },
     "execution_count": 7,
     "metadata": {},
     "output_type": "execute_result"
    }
   ],
   "source": [
    "superEggDrop1(3,14)"
   ]
  }
 ],
 "metadata": {
  "kernelspec": {
   "display_name": "Python 3",
   "language": "python",
   "name": "python3"
  },
  "language_info": {
   "codemirror_mode": {
    "name": "ipython",
    "version": 3
   },
   "file_extension": ".py",
   "mimetype": "text/x-python",
   "name": "python",
   "nbconvert_exporter": "python",
   "pygments_lexer": "ipython3",
   "version": "3.7.0"
  }
 },
 "nbformat": 4,
 "nbformat_minor": 2
}
